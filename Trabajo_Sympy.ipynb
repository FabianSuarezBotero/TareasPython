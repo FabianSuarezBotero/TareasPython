{
  "nbformat": 4,
  "nbformat_minor": 0,
  "metadata": {
    "colab": {
      "name": "Trabajo Sympy.ipynb",
      "provenance": [],
      "collapsed_sections": [],
      "authorship_tag": "ABX9TyPzW72BpabsvzWWaLlboYpl",
      "include_colab_link": true
    },
    "kernelspec": {
      "name": "python3",
      "display_name": "Python 3"
    },
    "language_info": {
      "name": "python"
    }
  },
  "cells": [
    {
      "cell_type": "markdown",
      "metadata": {
        "id": "view-in-github",
        "colab_type": "text"
      },
      "source": [
        "<a href=\"https://colab.research.google.com/github/FabianSuarezBotero/TareasPython/blob/main/Trabajo_Sympy.ipynb\" target=\"_parent\"><img src=\"https://colab.research.google.com/assets/colab-badge.svg\" alt=\"Open In Colab\"/></a>"
      ]
    },
    {
      "cell_type": "code",
      "metadata": {
        "id": "zC0gaSimSO1n"
      },
      "source": [
        "Fabian Suárez Botero - 20191005122"
      ],
      "execution_count": null,
      "outputs": []
    },
    {
      "cell_type": "code",
      "metadata": {
        "colab": {
          "base_uri": "https://localhost:8080/"
        },
        "id": "oNUUGZ3fQKvc",
        "outputId": "defdd3c3-ef61-4d88-f50e-5eb94e74910e"
      },
      "source": [
        "import sympy\n",
        "from sympy import init_session\n",
        "init_session(use_latex=True)"
      ],
      "execution_count": 1,
      "outputs": [
        {
          "output_type": "stream",
          "name": "stdout",
          "text": [
            "IPython console for SymPy 1.7.1 (Python 3.7.11-64-bit) (ground types: python)\n",
            "\n",
            "These commands were executed:\n",
            ">>> from __future__ import division\n",
            ">>> from sympy import *\n",
            ">>> x, y, z, t = symbols('x y z t')\n",
            ">>> k, m, n = symbols('k m n', integer=True)\n",
            ">>> f, g, h = symbols('f g h', cls=Function)\n",
            ">>> init_printing()\n",
            "\n",
            "Documentation can be found at https://docs.sympy.org/1.7.1/\n",
            "\n"
          ]
        }
      ]
    },
    {
      "cell_type": "markdown",
      "metadata": {
        "id": "iK8AiLhoSJp6"
      },
      "source": [
        "                                                                          \n",
        "                                                                          PRIMER PUNTO\n",
        "\n"
      ]
    },
    {
      "cell_type": "code",
      "metadata": {
        "colab": {
          "base_uri": "https://localhost:8080/",
          "height": 52
        },
        "id": "Sj4VIidaQzj_",
        "outputId": "c1c72e95-566f-4326-fcb4-f2a252085aaa"
      },
      "source": [
        "derivada1 = ((2*x**4+(34*x**3)+23))\n",
        "Derivative(derivada1)"
      ],
      "execution_count": 6,
      "outputs": [
        {
          "output_type": "execute_result",
          "data": {
            "image/png": "[encoded data removed]",
            "text/latex": "$\\displaystyle \\frac{d}{d x} \\left(2 x^{4} + 34 x^{3} + 23\\right)$",
            "text/plain": [
              "d ⎛   4       3     ⎞\n",
              "──⎝2⋅x  + 34⋅x  + 23⎠\n",
              "dx                   "
            ]
          },
          "metadata": {},
          "execution_count": 6
        }
      ]
    },
    {
      "cell_type": "code",
      "metadata": {
        "colab": {
          "base_uri": "https://localhost:8080/",
          "height": 38
        },
        "id": "oT7a4uCWR6b8",
        "outputId": "2467a88c-c671-4082-a8c2-7d71ef9e85b6"
      },
      "source": [
        "\n",
        "diff(derivada1)"
      ],
      "execution_count": 8,
      "outputs": [
        {
          "output_type": "execute_result",
          "data": {
            "image/png": "[encoded data removed]",
            "text/latex": "$\\displaystyle 8 x^{3} + 102 x^{2}$",
            "text/plain": [
              "   3        2\n",
              "8⋅x  + 102⋅x "
            ]
          },
          "metadata": {},
          "execution_count": 8
        }
      ]
    },
    {
      "cell_type": "code",
      "metadata": {
        "colab": {
          "base_uri": "https://localhost:8080/",
          "height": 38
        },
        "id": "mXGlhBVSR4LC",
        "outputId": "4735de49-3430-4b18-f16a-6a7fa1836db4"
      },
      "source": [
        "derivada2 = Derivative(derivada1)\n",
        "diff(derivada2)"
      ],
      "execution_count": 9,
      "outputs": [
        {
          "output_type": "execute_result",
          "data": {
            "image/png": "[encoded data removed]",
            "text/latex": "$\\displaystyle 12 x \\left(2 x + 17\\right)$",
            "text/plain": [
              "12⋅x⋅(2⋅x + 17)"
            ]
          },
          "metadata": {},
          "execution_count": 9
        }
      ]
    },
    {
      "cell_type": "code",
      "metadata": {
        "colab": {
          "base_uri": "https://localhost:8080/",
          "height": 52
        },
        "id": "IZbEiqkuS261",
        "outputId": "45b613bc-f707-4e62-d89c-22634a94c898"
      },
      "source": [
        "der_1 = x*ln(x)\n",
        "Derivative(der_1)"
      ],
      "execution_count": 11,
      "outputs": [
        {
          "output_type": "execute_result",
          "data": {
            "image/png": "[encoded data removed]",
            "text/latex": "$\\displaystyle \\frac{d}{d x} x \\log{\\left(x \\right)}$",
            "text/plain": [
              "d           \n",
              "──(x⋅log(x))\n",
              "dx          "
            ]
          },
          "metadata": {},
          "execution_count": 11
        }
      ]
    },
    {
      "cell_type": "code",
      "metadata": {
        "colab": {
          "base_uri": "https://localhost:8080/",
          "height": 38
        },
        "id": "cpUgZqlaS-Y0",
        "outputId": "40cc98f3-9342-4231-c7d5-5aa703398b9f"
      },
      "source": [
        "diff(der_1)"
      ],
      "execution_count": 12,
      "outputs": [
        {
          "output_type": "execute_result",
          "data": {
            "image/png": "[encoded data removed]",
            "text/latex": "$\\displaystyle \\log{\\left(x \\right)} + 1$",
            "text/plain": [
              "log(x) + 1"
            ]
          },
          "metadata": {},
          "execution_count": 12
        }
      ]
    },
    {
      "cell_type": "markdown",
      "metadata": {
        "id": "F6tS8Hj8TDCN"
      },
      "source": [
        "                                                                                PUNTO 2\n"
      ]
    },
    {
      "cell_type": "code",
      "metadata": {
        "colab": {
          "base_uri": "https://localhost:8080/",
          "height": 58
        },
        "id": "RnDnNKZWTEZJ",
        "outputId": "1bbe18ec-15bc-4e45-ccd0-dd062731170c"
      },
      "source": [
        "expandir = cos((x**4)/(y+1))\n",
        "expand_trig(expandir)"
      ],
      "execution_count": 14,
      "outputs": [
        {
          "output_type": "execute_result",
          "data": {
            "image/png": "[encoded data removed]",
            "text/latex": "$\\displaystyle \\cos{\\left(\\frac{x^{4}}{y + 1} \\right)}$",
            "text/plain": [
              "   ⎛   4 ⎞\n",
              "   ⎜  x  ⎟\n",
              "cos⎜─────⎟\n",
              "   ⎝y + 1⎠"
            ]
          },
          "metadata": {},
          "execution_count": 14
        }
      ]
    },
    {
      "cell_type": "code",
      "metadata": {
        "colab": {
          "base_uri": "https://localhost:8080/",
          "height": 39
        },
        "id": "c-p1kK4TUq3V",
        "outputId": "deb44acf-16fb-4ce6-eef1-90927b4e7e2f"
      },
      "source": [
        "factorizar = x**2+6*x+9\n",
        "factor (factorizar)"
      ],
      "execution_count": 18,
      "outputs": [
        {
          "output_type": "execute_result",
          "data": {
            "image/png": "[encoded data removed]",
            "text/latex": "$\\displaystyle \\left(x + 3\\right)^{2}$",
            "text/plain": [
              "       2\n",
              "(x + 3) "
            ]
          },
          "metadata": {},
          "execution_count": 18
        }
      ]
    },
    {
      "cell_type": "markdown",
      "metadata": {
        "id": "d3NgmTRhVbaK"
      },
      "source": [
        "                                                                                  PUNTO 3\n",
        "                                                                                  "
      ]
    },
    {
      "cell_type": "code",
      "metadata": {
        "colab": {
          "base_uri": "https://localhost:8080/",
          "height": 55
        },
        "id": "eZEKwMmHVdl5",
        "outputId": "161ceba0-f9fb-4fd1-9ee3-3768b71f8346"
      },
      "source": [
        "inte = (((2*x)+1)*(x**2+x+1))\n",
        "Integral(inte) "
      ],
      "execution_count": 19,
      "outputs": [
        {
          "output_type": "execute_result",
          "data": {
            "image/png": "[encoded data removed]",
            "text/latex": "$\\displaystyle \\int \\left(2 x + 1\\right) \\left(x^{2} + x + 1\\right)\\, dx$",
            "text/plain": [
              "⌠                          \n",
              "⎮           ⎛ 2        ⎞   \n",
              "⎮ (2⋅x + 1)⋅⎝x  + x + 1⎠ dx\n",
              "⌡                          "
            ]
          },
          "metadata": {},
          "execution_count": 19
        }
      ]
    },
    {
      "cell_type": "code",
      "metadata": {
        "colab": {
          "base_uri": "https://localhost:8080/",
          "height": 54
        },
        "id": "06xP1sDrV382",
        "outputId": "1a7c39ed-206c-4264-aaf3-8b0c99ffdf25"
      },
      "source": [
        "integrate(inte)\n"
      ],
      "execution_count": 21,
      "outputs": [
        {
          "output_type": "execute_result",
          "data": {
            "image/png": "[encoded data removed]",
            "text/latex": "$\\displaystyle \\frac{x^{4}}{2} + x^{3} + \\frac{3 x^{2}}{2} + x$",
            "text/plain": [
              " 4           2    \n",
              "x     3   3⋅x     \n",
              "── + x  + ──── + x\n",
              "2          2      "
            ]
          },
          "metadata": {},
          "execution_count": 21
        }
      ]
    },
    {
      "cell_type": "code",
      "metadata": {
        "colab": {
          "base_uri": "https://localhost:8080/",
          "height": 38
        },
        "id": "qUgwytqZWD4L",
        "outputId": "078e73d6-fa3b-4835-86d0-7e950225747c"
      },
      "source": [
        "inte.evalf()"
      ],
      "execution_count": 23,
      "outputs": [
        {
          "output_type": "execute_result",
          "data": {
            "image/png": "[encoded data removed]",
            "text/latex": "$\\displaystyle \\left(2.0 x + 1.0\\right) \\left(x^{2} + x + 1.0\\right)$",
            "text/plain": [
              "              ⎛ 2          ⎞\n",
              "(2.0⋅x + 1.0)⋅⎝x  + x + 1.0⎠"
            ]
          },
          "metadata": {},
          "execution_count": 23
        }
      ]
    },
    {
      "cell_type": "markdown",
      "metadata": {
        "id": "5SBmEwT5WRji"
      },
      "source": [
        "                                                                                  PUNTO 4\n",
        "                                                                                  "
      ]
    },
    {
      "cell_type": "code",
      "metadata": {
        "colab": {
          "base_uri": "https://localhost:8080/",
          "height": 78
        },
        "id": "Ytrbb8Y_WT2B",
        "outputId": "dd64f3d5-00f8-4734-b6df-22d4693411ae"
      },
      "source": [
        "A = Matrix([[12,-34,-45],\n",
        "            [-34,-23,100],\n",
        "            [45,12,23]])\n",
        "A"
      ],
      "execution_count": 25,
      "outputs": [
        {
          "output_type": "execute_result",
          "data": {
            "text/latex": "$\\displaystyle \\left[\\begin{matrix}12 & -34 & -45\\\\-34 & -23 & 100\\\\45 & 12 & 23\\end{matrix}\\right]$",
            "text/plain": [
              "⎡12   -34  -45⎤\n",
              "⎢             ⎥\n",
              "⎢-34  -23  100⎥\n",
              "⎢             ⎥\n",
              "⎣45   12   23 ⎦"
            ]
          },
          "metadata": {},
          "execution_count": 25
        }
      ]
    },
    {
      "cell_type": "code",
      "metadata": {
        "colab": {
          "base_uri": "https://localhost:8080/",
          "height": 78
        },
        "id": "ptcClqbWWxdm",
        "outputId": "f47a34ad-fc62-4732-b7de-db0b68972e43"
      },
      "source": [
        "A.inv()"
      ],
      "execution_count": 28,
      "outputs": [
        {
          "output_type": "execute_result",
          "data": {
            "text/latex": "$\\displaystyle \\left[\\begin{matrix}\\frac{91}{12029} & - \\frac{242}{228551} & \\frac{4435}{228551}\\\\- \\frac{278}{12029} & - \\frac{2301}{228551} & - \\frac{330}{228551}\\\\- \\frac{33}{12029} & \\frac{1674}{228551} & \\frac{1432}{228551}\\end{matrix}\\right]$",
            "text/plain": [
              "⎡  91   -242     4435 ⎤\n",
              "⎢─────  ──────  ──────⎥\n",
              "⎢12029  228551  228551⎥\n",
              "⎢                     ⎥\n",
              "⎢-278   -2301   -330  ⎥\n",
              "⎢─────  ──────  ──────⎥\n",
              "⎢12029  228551  228551⎥\n",
              "⎢                     ⎥\n",
              "⎢ -33    1674    1432 ⎥\n",
              "⎢─────  ──────  ──────⎥\n",
              "⎣12029  228551  228551⎦"
            ]
          },
          "metadata": {},
          "execution_count": 28
        }
      ]
    },
    {
      "cell_type": "code",
      "metadata": {
        "colab": {
          "base_uri": "https://localhost:8080/",
          "height": 37
        },
        "id": "AJcBpqgcWzt8",
        "outputId": "8bfaae94-80cf-43a9-8300-abc36e8d7197"
      },
      "source": [
        "A.det()"
      ],
      "execution_count": 27,
      "outputs": [
        {
          "output_type": "execute_result",
          "data": {
            "image/png": "[encoded data removed]",
            "text/latex": "$\\displaystyle -228551$",
            "text/plain": [
              "-228551"
            ]
          },
          "metadata": {},
          "execution_count": 27
        }
      ]
    },
    {
      "cell_type": "code",
      "metadata": {
        "colab": {
          "base_uri": "https://localhost:8080/",
          "height": 78
        },
        "id": "57eBHfx7W3d8",
        "outputId": "73e32358-cd93-4361-a608-f2e77e3b1981"
      },
      "source": [
        "A.T"
      ],
      "execution_count": 26,
      "outputs": [
        {
          "output_type": "execute_result",
          "data": {
            "text/latex": "$\\displaystyle \\left[\\begin{matrix}12 & -34 & 45\\\\-34 & -23 & 12\\\\-45 & 100 & 23\\end{matrix}\\right]$",
            "text/plain": [
              "⎡12   -34  45⎤\n",
              "⎢            ⎥\n",
              "⎢-34  -23  12⎥\n",
              "⎢            ⎥\n",
              "⎣-45  100  23⎦"
            ]
          },
          "metadata": {},
          "execution_count": 26
        }
      ]
    }
  ]
}