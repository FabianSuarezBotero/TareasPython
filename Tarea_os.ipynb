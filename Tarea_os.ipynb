{
  "nbformat": 4,
  "nbformat_minor": 0,
  "metadata": {
    "colab": {
      "name": "Copy of Untitled0.ipynb",
      "provenance": [],
      "authorship_tag": "ABX9TyM/N0FKWmgTs2WTcToGe50B",
      "include_colab_link": true
    },
    "kernelspec": {
      "name": "python3",
      "display_name": "Python 3"
    },
    "language_info": {
      "name": "python"
    }
  },
  "cells": [
    {
      "cell_type": "markdown",
      "metadata": {
        "id": "view-in-github",
        "colab_type": "text"
      },
      "source": [
        "<a href=\"https://colab.research.google.com/github/FabianSuarezBotero/TareasPython/blob/main/Tarea_os.ipynb\" target=\"_parent\"><img src=\"https://colab.research.google.com/assets/colab-badge.svg\" alt=\"Open In Colab\"/></a>"
      ]
    },
    {
      "cell_type": "markdown",
      "metadata": {
        "id": "pUp1kkTmZ085"
      },
      "source": [
        "Fabian Suárez Botero - 20191005122\n"
      ]
    },
    {
      "cell_type": "code",
      "metadata": {
        "id": "aGlbx2ipPUy3",
        "colab": {
          "base_uri": "https://localhost:8080/"
        },
        "outputId": "9ced1bfe-a803-4c85-daf8-f6ffe265fabf"
      },
      "source": [
        "import os\n",
        "y = os.name\n",
        "\n",
        "print (y)"
      ],
      "execution_count": null,
      "outputs": [
        {
          "output_type": "stream",
          "text": [
            "posix\n"
          ],
          "name": "stdout"
        }
      ]
    },
    {
      "cell_type": "code",
      "metadata": {
        "id": "tnrmGO0aYIEd",
        "colab": {
          "base_uri": "https://localhost:8080/"
        },
        "outputId": "9bc9e2ad-97e3-4d7b-f334-bf4f5af56c25"
      },
      "source": [
        "import os\n",
        "os.mkdir('modulo1')\n",
        "os.mkdir('modulo2')\n",
        "os.mkdir('modulo3')\n",
        "os.listdir()"
      ],
      "execution_count": null,
      "outputs": [
        {
          "output_type": "execute_result",
          "data": {
            "text/plain": [
              "['.config',\n",
              " 'modulo2',\n",
              " 'modulo3',\n",
              " 'Modulación',\n",
              " 'CopiadeSeguridad',\n",
              " 'modulo1',\n",
              " 'Transición',\n",
              " 'sample_data']"
            ]
          },
          "metadata": {},
          "execution_count": 10
        }
      ]
    },
    {
      "cell_type": "code",
      "metadata": {
        "id": "fUbeYeCPZF3w",
        "colab": {
          "base_uri": "https://localhost:8080/"
        },
        "outputId": "5158deac-7fbe-4aaa-ebc3-2f98397be568"
      },
      "source": [
        "import os\n",
        "os.rename('modulo1','Modulacion')\n",
        "os.rename('modulo2','Transicion')\n",
        "os.rename('modulo3','CopiadeSeguridad')\n",
        "os.listdir()"
      ],
      "execution_count": null,
      "outputs": [
        {
          "output_type": "execute_result",
          "data": {
            "text/plain": [
              "['.config',\n",
              " 'Modulacion',\n",
              " 'Modulación',\n",
              " 'CopiadeSeguridad',\n",
              " 'Transición',\n",
              " 'Transicion',\n",
              " 'sample_data']"
            ]
          },
          "metadata": {},
          "execution_count": 12
        }
      ]
    },
    {
      "cell_type": "code",
      "metadata": {
        "id": "x9jtnR_cZuKT",
        "colab": {
          "base_uri": "https://localhost:8080/"
        },
        "outputId": "ca95e05a-d2cf-427a-b9be-8a5556cbbb99"
      },
      "source": [
        "import os\n",
        "os.stat('Modulacion')"
      ],
      "execution_count": null,
      "outputs": [
        {
          "output_type": "execute_result",
          "data": {
            "text/plain": [
              "os.stat_result(st_mode=16877, st_ino=5767170, st_dev=50, st_nlink=2, st_uid=0, st_gid=0, st_size=4096, st_atime=1629326493, st_mtime=1629326376, st_ctime=1629326585)"
            ]
          },
          "metadata": {},
          "execution_count": 13
        }
      ]
    },
    {
      "cell_type": "code",
      "metadata": {
        "id": "7zEuOUx5bSmz",
        "colab": {
          "base_uri": "https://localhost:8080/"
        },
        "outputId": "bad844bc-0ef0-4f74-cd43-7ad4b9f2e6ef"
      },
      "source": [
        "import os\n",
        "\n",
        "a = 'Modulacion'\n",
        "ultvez = os.path.getatime(a)\n",
        "\n",
        "b = '/content/Modulacion'\n",
        "nombre = os.path.basename(b)\n",
        "\n",
        "c = 'Modulacion'\n",
        "existe = os.path.exists(c)\n",
        "\n",
        "d = 'Modulacion'\n",
        "tamaño = os.path.getsize(d)\n",
        "\n",
        "e = 'Modulacion'\n",
        "abs = os.path.isabs(e)\n",
        "\n",
        "\n",
        "print(nombre, existe, ultvez, tamaño, abs)\n"
      ],
      "execution_count": null,
      "outputs": [
        {
          "output_type": "stream",
          "text": [
            "Modulacion True 1629326493.8946419 4096 False\n"
          ],
          "name": "stdout"
        }
      ]
    }
  ]
}