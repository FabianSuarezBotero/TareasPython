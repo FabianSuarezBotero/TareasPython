{
  "nbformat": 4,
  "nbformat_minor": 0,
  "metadata": {
    "colab": {
      "name": "Copy of Untitled0.ipynb",
      "provenance": [],
      "collapsed_sections": [],
      "authorship_tag": "ABX9TyNMIfIS9mhHp5S6QeheUxhi",
      "include_colab_link": true
    },
    "kernelspec": {
      "name": "python3",
      "display_name": "Python 3"
    },
    "language_info": {
      "name": "python"
    }
  },
  "cells": [
    {
      "cell_type": "markdown",
      "metadata": {
        "id": "view-in-github",
        "colab_type": "text"
      },
      "source": [
        "<a href=\"https://colab.research.google.com/github/FabianSuarezBotero/TareasPython/blob/main/Tarea_os.ipynb\" target=\"_parent\"><img src=\"https://colab.research.google.com/assets/colab-badge.svg\" alt=\"Open In Colab\"/></a>"
      ]
    },
    {
      "cell_type": "markdown",
      "metadata": {
        "id": "pUp1kkTmZ085"
      },
      "source": [
        "Fabian Suárez Botero - 20191005122\n"
      ]
    },
    {
      "cell_type": "code",
      "metadata": {
        "id": "aGlbx2ipPUy3",
        "colab": {
          "base_uri": "https://localhost:8080/"
        },
        "outputId": "9ced1bfe-a803-4c85-daf8-f6ffe265fabf"
      },
      "source": [
        "import os\n",
        "y = os.name\n",
        "\n",
        "print (y)"
      ],
      "execution_count": null,
      "outputs": [
        {
          "output_type": "stream",
          "text": [
            "posix\n"
          ],
          "name": "stdout"
        }
      ]
    },
    {
      "cell_type": "code",
      "metadata": {
        "id": "tnrmGO0aYIEd",
        "colab": {
          "base_uri": "https://localhost:8080/"
        },
        "outputId": "908ba195-4dfa-46ae-f50f-5d24fafa7cc9"
      },
      "source": [
        "import os\n",
        "os.mkdir('modulo1')\n",
        "os.mkdir('modulo2')\n",
        "os.mkdir('modulo3')\n",
        "os.listdir()"
      ],
      "execution_count": 5,
      "outputs": [
        {
          "output_type": "execute_result",
          "data": {
            "text/plain": [
              "['.config', 'modulo2', 'modulo3', 'modulo1', 'sample_data']"
            ]
          },
          "metadata": {},
          "execution_count": 5
        }
      ]
    },
    {
      "cell_type": "code",
      "metadata": {
        "id": "fUbeYeCPZF3w",
        "colab": {
          "base_uri": "https://localhost:8080/"
        },
        "outputId": "61d25bcd-25fb-4332-bbb1-9c57dcbb2ad5"
      },
      "source": [
        "import os\n",
        "os.rename('modulo1','Modulacion')\n",
        "os.rename('modulo2','Transicion')\n",
        "os.rename('modulo3','CopiadeSeguridad')\n",
        "os.listdir()"
      ],
      "execution_count": 6,
      "outputs": [
        {
          "output_type": "execute_result",
          "data": {
            "text/plain": [
              "['.config', 'Modulacion', 'CopiadeSeguridad', 'Transicion', 'sample_data']"
            ]
          },
          "metadata": {},
          "execution_count": 6
        }
      ]
    },
    {
      "cell_type": "code",
      "metadata": {
        "id": "x9jtnR_cZuKT",
        "colab": {
          "base_uri": "https://localhost:8080/"
        },
        "outputId": "72cf39b3-0f1b-4600-f2b2-910dfef0f011"
      },
      "source": [
        "import os\n",
        "os.stat('Modulacion')"
      ],
      "execution_count": 7,
      "outputs": [
        {
          "output_type": "execute_result",
          "data": {
            "text/plain": [
              "os.stat_result(st_mode=16877, st_ino=5767170, st_dev=52, st_nlink=2, st_uid=0, st_gid=0, st_size=4096, st_atime=1629327326, st_mtime=1629327326, st_ctime=1629327333)"
            ]
          },
          "metadata": {},
          "execution_count": 7
        }
      ]
    },
    {
      "cell_type": "code",
      "metadata": {
        "id": "7zEuOUx5bSmz",
        "colab": {
          "base_uri": "https://localhost:8080/"
        },
        "outputId": "c3cb78c5-d347-45c7-9bb6-60dca577b649"
      },
      "source": [
        "import os\n",
        "\n",
        "a = 'Modulacion'\n",
        "ultvez = os.path.getatime(a)\n",
        "\n",
        "b = '/content/Modulacion'\n",
        "nombre = os.path.basename(b)\n",
        "\n",
        "c = 'Modulacion'\n",
        "existe = os.path.exists(c)\n",
        "\n",
        "d = 'Modulacion'\n",
        "tamaño = os.path.getsize(d)\n",
        "\n",
        "e = 'Modulacion'\n",
        "absol = os.path.isabs(e)\n",
        "\n",
        "\n",
        "print(nombre, existe, ultvez, tamaño, absol)\n",
        "\n"
      ],
      "execution_count": 9,
      "outputs": [
        {
          "output_type": "stream",
          "text": [
            "Modulacion True 1629327326.1853247 4096 False\n"
          ],
          "name": "stdout"
        }
      ]
    }
  ]
}